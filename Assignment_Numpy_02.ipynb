{
 "cells": [
  {
   "cell_type": "code",
   "execution_count": 2,
   "metadata": {},
   "outputs": [],
   "source": [
    "import numpy as np"
   ]
  },
  {
   "cell_type": "code",
   "execution_count": 5,
   "metadata": {},
   "outputs": [
    {
     "data": {
      "text/plain": [
       "(array([[0, 1],\n",
       "        [2, 3],\n",
       "        [4, 5]]),\n",
       " array([[ 7,  8],\n",
       "        [ 9, 10]]))"
      ]
     },
     "execution_count": 5,
     "metadata": {},
     "output_type": "execute_result"
    }
   ],
   "source": [
    "x,y = np.arange(0,6).reshape(3,2),  np.arange(7,11).reshape(2,2)\n",
    "x,y"
   ]
  },
  {
   "cell_type": "code",
   "execution_count": 6,
   "metadata": {},
   "outputs": [
    {
     "data": {
      "text/plain": [
       "array([[7, 5, 8],\n",
       "       [6, 5, 8],\n",
       "       [9, 5, 6],\n",
       "       [5, 8, 7],\n",
       "       [8, 5, 8]])"
      ]
     },
     "execution_count": 6,
     "metadata": {},
     "output_type": "execute_result"
    }
   ],
   "source": [
    "np.random.seed(55)\n",
    "a=np.random.randint(5,10,(5,3))\n",
    "a\n",
    "# a.ndim"
   ]
  },
  {
   "cell_type": "code",
   "execution_count": 7,
   "metadata": {},
   "outputs": [
    {
     "data": {
      "text/plain": [
       "array([7, 5, 8, 6, 5, 8, 9, 5, 6, 5, 8, 7, 8, 5, 8])"
      ]
     },
     "execution_count": 7,
     "metadata": {},
     "output_type": "execute_result"
    }
   ],
   "source": [
    "a1=a.flatten()\n",
    "a1"
   ]
  },
  {
   "cell_type": "code",
   "execution_count": 15,
   "metadata": {},
   "outputs": [
    {
     "name": "stdout",
     "output_type": "stream",
     "text": [
      "[5 6 7 8 9] \n",
      " counts \n",
      " [5 2 2 5 1]\n"
     ]
    }
   ],
   "source": [
    "a1un,a1cnt=np.unique((a1),return_counts=True)\n",
    "print(a1un,'\\n',\"counts\",\"\\n\", a1cnt )                 #new line is giving me error # clear# showing /n n next line"
   ]
  },
  {
   "cell_type": "code",
   "execution_count": 17,
   "metadata": {},
   "outputs": [
    {
     "name": "stdout",
     "output_type": "stream",
     "text": [
      "[7 5 8 6 5 8 9 5 6 5 8 7 8 5 8]\n"
     ]
    },
    {
     "data": {
      "text/plain": [
       "{5: 5, 6: 2, 7: 2, 8: 5, 9: 1}"
      ]
     },
     "execution_count": 17,
     "metadata": {},
     "output_type": "execute_result"
    }
   ],
   "source": [
    "print(a1)\n",
    "l=list(a1)\n",
    "\n",
    "# g=[l[i]=a1.count(i) for i in a]\n",
    "    \n",
    "# print(g)\n",
    "\n",
    "# for i in a1un:\n",
    "#     for a1 in a1cnt:\n",
    "#         print(i,a1)\n",
    "\n",
    "# g= {i:l.count(i) for i in l}   # another way of doing it\n",
    "# g\n",
    "    \n",
    "# list(zip(a1un,a1cnt))\n",
    "\n",
    "# {i:j for i,j in zip(a1un,a1cnt)}\n",
    "\n",
    "dict(zip(a1un,a1cnt))   #best way to do it"
   ]
  },
  {
   "cell_type": "code",
   "execution_count": 74,
   "metadata": {},
   "outputs": [
    {
     "data": {
      "text/plain": [
       "6"
      ]
     },
     "execution_count": 74,
     "metadata": {},
     "output_type": "execute_result"
    }
   ],
   "source": [
    "a1.argmax()"
   ]
  },
  {
   "cell_type": "code",
   "execution_count": 76,
   "metadata": {},
   "outputs": [
    {
     "name": "stdout",
     "output_type": "stream",
     "text": [
      "[7 5 8 6 5 8 9 5 6 5 8 7 8 5 8]\n"
     ]
    },
    {
     "data": {
      "text/plain": [
       "array([-1, -1,  8,  6, -1,  8, -1, -1,  6, -1,  8, -1,  8, -1,  8])"
      ]
     },
     "execution_count": 76,
     "metadata": {},
     "output_type": "execute_result"
    }
   ],
   "source": [
    "print(a1)\n",
    "np.where(a1%2!=0,-1,a1)"
   ]
  },
  {
   "cell_type": "code",
   "execution_count": null,
   "metadata": {},
   "outputs": [],
   "source": []
  }
 ],
 "metadata": {
  "kernelspec": {
   "display_name": "Python 3",
   "language": "python",
   "name": "python3"
  },
  "language_info": {
   "codemirror_mode": {
    "name": "ipython",
    "version": 3
   },
   "file_extension": ".py",
   "mimetype": "text/x-python",
   "name": "python",
   "nbconvert_exporter": "python",
   "pygments_lexer": "ipython3",
   "version": "3.8.5"
  }
 },
 "nbformat": 4,
 "nbformat_minor": 4
}
